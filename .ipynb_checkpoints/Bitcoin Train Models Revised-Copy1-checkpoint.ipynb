{
 "cells": [
  {
   "cell_type": "code",
   "execution_count": 1,
   "metadata": {},
   "outputs": [],
   "source": [
    "import numpy as np\n",
    "import pandas as pd\n",
    "import seaborn as sns\n",
    "import matplotlib.pyplot as plt\n",
    "\n",
    "from sklearn.pipeline import make_pipeline\n",
    "from sklearn.dummy import DummyClassifier\n",
    "from sklearn.neighbors import (\n",
    "    KNeighborsRegressor,\n",
    "    KNeighborsClassifier)\n",
    "from sklearn.preprocessing import StandardScaler\n",
    "from sklearn.linear_model import (\n",
    "    LinearRegression,\n",
    "    Lasso,\n",
    "    LogisticRegression\n",
    ")\n",
    "from sklearn.ensemble import (\n",
    "    BaggingClassifier,\n",
    "    BaggingRegressor,\n",
    "    RandomForestRegressor,\n",
    "    RandomForestClassifier\n",
    ")\n",
    "from sklearn.metrics import (\n",
    "    accuracy_score,\n",
    "    mean_squared_error,\n",
    "    plot_confusion_matrix,\n",
    "    precision_score,\n",
    "    recall_score\n",
    ")\n",
    "from sklearn.model_selection import (\n",
    "    GridSearchCV,\n",
    "    KFold,\n",
    "    train_test_split\n",
    ")\n",
    "from sklearn.tree import (\n",
    "    DecisionTreeClassifier,\n",
    "    DecisionTreeRegressor,\n",
    "    plot_tree\n",
    ")"
   ]
  },
  {
   "cell_type": "code",
   "execution_count": 2,
   "metadata": {},
   "outputs": [],
   "source": [
    "btc = pd.read_csv(\"btc_transform.csv\")  # Read in file"
   ]
  },
  {
   "cell_type": "code",
   "execution_count": 3,
   "metadata": {},
   "outputs": [
    {
     "data": {
      "text/html": [
       "<div>\n",
       "<style scoped>\n",
       "    .dataframe tbody tr th:only-of-type {\n",
       "        vertical-align: middle;\n",
       "    }\n",
       "\n",
       "    .dataframe tbody tr th {\n",
       "        vertical-align: top;\n",
       "    }\n",
       "\n",
       "    .dataframe thead th {\n",
       "        text-align: right;\n",
       "    }\n",
       "</style>\n",
       "<table border=\"1\" class=\"dataframe\">\n",
       "  <thead>\n",
       "    <tr style=\"text-align: right;\">\n",
       "      <th></th>\n",
       "      <th>Date</th>\n",
       "      <th>Adj Close</th>\n",
       "      <th>Volume</th>\n",
       "      <th>Close_-1</th>\n",
       "      <th>Delta</th>\n",
       "      <th>Delta_Class_Numeric</th>\n",
       "      <th>Close_-1_Delta</th>\n",
       "      <th>AVG_Weighted_Future_Return</th>\n",
       "      <th>Gain_Run</th>\n",
       "      <th>Gain_Loss</th>\n",
       "      <th>...</th>\n",
       "      <th>50-Day_AVG_Price</th>\n",
       "      <th>100-Day_AVG_Price</th>\n",
       "      <th>7-Day_AG_to_30-Day_AVG</th>\n",
       "      <th>30-Day_AG_to_50-Day_AVG</th>\n",
       "      <th>50-Day_AG_to_100-Day_AVG</th>\n",
       "      <th>7_to_30_5-Day_AVG</th>\n",
       "      <th>30_to_50_5-Day_AVG</th>\n",
       "      <th>50_to_100_5-Day_AVG</th>\n",
       "      <th>Year</th>\n",
       "      <th>Month</th>\n",
       "    </tr>\n",
       "  </thead>\n",
       "  <tbody>\n",
       "    <tr>\n",
       "      <th>0</th>\n",
       "      <td>2022-01-06</td>\n",
       "      <td>43160.929688</td>\n",
       "      <td>30208048289</td>\n",
       "      <td>43569.003906</td>\n",
       "      <td>-0.009366</td>\n",
       "      <td>0.0</td>\n",
       "      <td>-0.050734</td>\n",
       "      <td>-0.034876</td>\n",
       "      <td>0.0</td>\n",
       "      <td>1.0</td>\n",
       "      <td>...</td>\n",
       "      <td>51196.647422</td>\n",
       "      <td>54984.217617</td>\n",
       "      <td>-0.035512</td>\n",
       "      <td>-0.061359</td>\n",
       "      <td>-0.068885</td>\n",
       "      <td>-0.025447</td>\n",
       "      <td>-0.067486</td>\n",
       "      <td>-0.055310</td>\n",
       "      <td>2022</td>\n",
       "      <td>1</td>\n",
       "    </tr>\n",
       "    <tr>\n",
       "      <th>1</th>\n",
       "      <td>2022-01-05</td>\n",
       "      <td>43569.003906</td>\n",
       "      <td>36851084859</td>\n",
       "      <td>45897.574219</td>\n",
       "      <td>-0.050734</td>\n",
       "      <td>0.0</td>\n",
       "      <td>-0.012066</td>\n",
       "      <td>-0.022267</td>\n",
       "      <td>0.0</td>\n",
       "      <td>1.0</td>\n",
       "      <td>...</td>\n",
       "      <td>51528.492266</td>\n",
       "      <td>54970.884883</td>\n",
       "      <td>-0.031674</td>\n",
       "      <td>-0.062867</td>\n",
       "      <td>-0.062622</td>\n",
       "      <td>-0.020436</td>\n",
       "      <td>-0.070086</td>\n",
       "      <td>-0.048463</td>\n",
       "      <td>2022</td>\n",
       "      <td>1</td>\n",
       "    </tr>\n",
       "    <tr>\n",
       "      <th>2</th>\n",
       "      <td>2022-01-04</td>\n",
       "      <td>45897.574219</td>\n",
       "      <td>42494677905</td>\n",
       "      <td>46458.117188</td>\n",
       "      <td>-0.012066</td>\n",
       "      <td>0.0</td>\n",
       "      <td>-0.018737</td>\n",
       "      <td>-0.067490</td>\n",
       "      <td>0.0</td>\n",
       "      <td>0.0</td>\n",
       "      <td>...</td>\n",
       "      <td>51881.698203</td>\n",
       "      <td>54943.994531</td>\n",
       "      <td>-0.028997</td>\n",
       "      <td>-0.067017</td>\n",
       "      <td>-0.055735</td>\n",
       "      <td>-0.015038</td>\n",
       "      <td>-0.072313</td>\n",
       "      <td>-0.041411</td>\n",
       "      <td>2022</td>\n",
       "      <td>1</td>\n",
       "    </tr>\n",
       "    <tr>\n",
       "      <th>3</th>\n",
       "      <td>2022-01-03</td>\n",
       "      <td>46458.117188</td>\n",
       "      <td>33071628362</td>\n",
       "      <td>47345.218750</td>\n",
       "      <td>-0.018737</td>\n",
       "      <td>0.0</td>\n",
       "      <td>-0.007163</td>\n",
       "      <td>-0.038699</td>\n",
       "      <td>0.0</td>\n",
       "      <td>0.0</td>\n",
       "      <td>...</td>\n",
       "      <td>52261.872656</td>\n",
       "      <td>54906.579297</td>\n",
       "      <td>-0.018507</td>\n",
       "      <td>-0.072054</td>\n",
       "      <td>-0.048167</td>\n",
       "      <td>-0.009414</td>\n",
       "      <td>-0.073719</td>\n",
       "      <td>-0.034205</td>\n",
       "      <td>2022</td>\n",
       "      <td>1</td>\n",
       "    </tr>\n",
       "    <tr>\n",
       "      <th>4</th>\n",
       "      <td>2022-01-02</td>\n",
       "      <td>47345.218750</td>\n",
       "      <td>27951569547</td>\n",
       "      <td>47686.812500</td>\n",
       "      <td>-0.007163</td>\n",
       "      <td>0.0</td>\n",
       "      <td>0.029809</td>\n",
       "      <td>-0.047394</td>\n",
       "      <td>0.0</td>\n",
       "      <td>0.0</td>\n",
       "      <td>...</td>\n",
       "      <td>52604.358828</td>\n",
       "      <td>54861.524610</td>\n",
       "      <td>-0.012546</td>\n",
       "      <td>-0.074133</td>\n",
       "      <td>-0.041143</td>\n",
       "      <td>-0.006154</td>\n",
       "      <td>-0.074123</td>\n",
       "      <td>-0.026881</td>\n",
       "      <td>2022</td>\n",
       "      <td>1</td>\n",
       "    </tr>\n",
       "    <tr>\n",
       "      <th>...</th>\n",
       "      <td>...</td>\n",
       "      <td>...</td>\n",
       "      <td>...</td>\n",
       "      <td>...</td>\n",
       "      <td>...</td>\n",
       "      <td>...</td>\n",
       "      <td>...</td>\n",
       "      <td>...</td>\n",
       "      <td>...</td>\n",
       "      <td>...</td>\n",
       "      <td>...</td>\n",
       "      <td>...</td>\n",
       "      <td>...</td>\n",
       "      <td>...</td>\n",
       "      <td>...</td>\n",
       "      <td>...</td>\n",
       "      <td>...</td>\n",
       "      <td>...</td>\n",
       "      <td>...</td>\n",
       "      <td>...</td>\n",
       "      <td>...</td>\n",
       "    </tr>\n",
       "    <tr>\n",
       "      <th>1452</th>\n",
       "      <td>2018-01-15</td>\n",
       "      <td>13819.799805</td>\n",
       "      <td>12750799872</td>\n",
       "      <td>13772.000000</td>\n",
       "      <td>0.003471</td>\n",
       "      <td>1.0</td>\n",
       "      <td>-0.040960</td>\n",
       "      <td>-0.158693</td>\n",
       "      <td>0.0</td>\n",
       "      <td>0.0</td>\n",
       "      <td>...</td>\n",
       "      <td>14691.666172</td>\n",
       "      <td>10597.504883</td>\n",
       "      <td>-0.073739</td>\n",
       "      <td>0.052480</td>\n",
       "      <td>0.386333</td>\n",
       "      <td>-0.032673</td>\n",
       "      <td>0.083182</td>\n",
       "      <td>0.390778</td>\n",
       "      <td>2018</td>\n",
       "      <td>1</td>\n",
       "    </tr>\n",
       "    <tr>\n",
       "      <th>1453</th>\n",
       "      <td>2018-01-14</td>\n",
       "      <td>13772.000000</td>\n",
       "      <td>11084099584</td>\n",
       "      <td>14360.200195</td>\n",
       "      <td>-0.040960</td>\n",
       "      <td>0.0</td>\n",
       "      <td>0.027152</td>\n",
       "      <td>-0.069910</td>\n",
       "      <td>0.0</td>\n",
       "      <td>0.0</td>\n",
       "      <td>...</td>\n",
       "      <td>14592.044570</td>\n",
       "      <td>10503.492983</td>\n",
       "      <td>-0.056744</td>\n",
       "      <td>0.068654</td>\n",
       "      <td>0.389256</td>\n",
       "      <td>-0.017265</td>\n",
       "      <td>0.098730</td>\n",
       "      <td>0.392665</td>\n",
       "      <td>2018</td>\n",
       "      <td>1</td>\n",
       "    </tr>\n",
       "    <tr>\n",
       "      <th>1454</th>\n",
       "      <td>2018-01-13</td>\n",
       "      <td>14360.200195</td>\n",
       "      <td>12763599872</td>\n",
       "      <td>13980.599609</td>\n",
       "      <td>0.027152</td>\n",
       "      <td>1.0</td>\n",
       "      <td>0.042877</td>\n",
       "      <td>-0.104620</td>\n",
       "      <td>0.0</td>\n",
       "      <td>0.0</td>\n",
       "      <td>...</td>\n",
       "      <td>14469.914375</td>\n",
       "      <td>10403.175083</td>\n",
       "      <td>-0.032291</td>\n",
       "      <td>0.082751</td>\n",
       "      <td>0.390913</td>\n",
       "      <td>-0.004924</td>\n",
       "      <td>0.113520</td>\n",
       "      <td>0.394253</td>\n",
       "      <td>2018</td>\n",
       "      <td>1</td>\n",
       "    </tr>\n",
       "    <tr>\n",
       "      <th>1455</th>\n",
       "      <td>2018-01-12</td>\n",
       "      <td>13980.599609</td>\n",
       "      <td>12065699840</td>\n",
       "      <td>13405.799805</td>\n",
       "      <td>0.042877</td>\n",
       "      <td>1.0</td>\n",
       "      <td>-0.104686</td>\n",
       "      <td>-0.007130</td>\n",
       "      <td>0.0</td>\n",
       "      <td>0.0</td>\n",
       "      <td>...</td>\n",
       "      <td>14351.077783</td>\n",
       "      <td>10305.662686</td>\n",
       "      <td>-0.005977</td>\n",
       "      <td>0.097355</td>\n",
       "      <td>0.392543</td>\n",
       "      <td>-0.000184</td>\n",
       "      <td>0.127850</td>\n",
       "      <td>0.395686</td>\n",
       "      <td>2018</td>\n",
       "      <td>1</td>\n",
       "    </tr>\n",
       "    <tr>\n",
       "      <th>1456</th>\n",
       "      <td>2018-01-11</td>\n",
       "      <td>13405.799805</td>\n",
       "      <td>16534099968</td>\n",
       "      <td>14973.299805</td>\n",
       "      <td>-0.104686</td>\n",
       "      <td>0.0</td>\n",
       "      <td>0.025892</td>\n",
       "      <td>0.019634</td>\n",
       "      <td>0.0</td>\n",
       "      <td>0.0</td>\n",
       "      <td>...</td>\n",
       "      <td>14248.032783</td>\n",
       "      <td>10214.779487</td>\n",
       "      <td>0.005387</td>\n",
       "      <td>0.114672</td>\n",
       "      <td>0.394845</td>\n",
       "      <td>-0.004894</td>\n",
       "      <td>0.142240</td>\n",
       "      <td>0.396760</td>\n",
       "      <td>2018</td>\n",
       "      <td>1</td>\n",
       "    </tr>\n",
       "  </tbody>\n",
       "</table>\n",
       "<p>1457 rows × 32 columns</p>\n",
       "</div>"
      ],
      "text/plain": [
       "            Date     Adj Close       Volume      Close_-1     Delta  \\\n",
       "0     2022-01-06  43160.929688  30208048289  43569.003906 -0.009366   \n",
       "1     2022-01-05  43569.003906  36851084859  45897.574219 -0.050734   \n",
       "2     2022-01-04  45897.574219  42494677905  46458.117188 -0.012066   \n",
       "3     2022-01-03  46458.117188  33071628362  47345.218750 -0.018737   \n",
       "4     2022-01-02  47345.218750  27951569547  47686.812500 -0.007163   \n",
       "...          ...           ...          ...           ...       ...   \n",
       "1452  2018-01-15  13819.799805  12750799872  13772.000000  0.003471   \n",
       "1453  2018-01-14  13772.000000  11084099584  14360.200195 -0.040960   \n",
       "1454  2018-01-13  14360.200195  12763599872  13980.599609  0.027152   \n",
       "1455  2018-01-12  13980.599609  12065699840  13405.799805  0.042877   \n",
       "1456  2018-01-11  13405.799805  16534099968  14973.299805 -0.104686   \n",
       "\n",
       "      Delta_Class_Numeric  Close_-1_Delta  AVG_Weighted_Future_Return  \\\n",
       "0                     0.0       -0.050734                   -0.034876   \n",
       "1                     0.0       -0.012066                   -0.022267   \n",
       "2                     0.0       -0.018737                   -0.067490   \n",
       "3                     0.0       -0.007163                   -0.038699   \n",
       "4                     0.0        0.029809                   -0.047394   \n",
       "...                   ...             ...                         ...   \n",
       "1452                  1.0       -0.040960                   -0.158693   \n",
       "1453                  0.0        0.027152                   -0.069910   \n",
       "1454                  1.0        0.042877                   -0.104620   \n",
       "1455                  1.0       -0.104686                   -0.007130   \n",
       "1456                  0.0        0.025892                    0.019634   \n",
       "\n",
       "      Gain_Run  Gain_Loss  ...  50-Day_AVG_Price  100-Day_AVG_Price  \\\n",
       "0          0.0        1.0  ...      51196.647422       54984.217617   \n",
       "1          0.0        1.0  ...      51528.492266       54970.884883   \n",
       "2          0.0        0.0  ...      51881.698203       54943.994531   \n",
       "3          0.0        0.0  ...      52261.872656       54906.579297   \n",
       "4          0.0        0.0  ...      52604.358828       54861.524610   \n",
       "...        ...        ...  ...               ...                ...   \n",
       "1452       0.0        0.0  ...      14691.666172       10597.504883   \n",
       "1453       0.0        0.0  ...      14592.044570       10503.492983   \n",
       "1454       0.0        0.0  ...      14469.914375       10403.175083   \n",
       "1455       0.0        0.0  ...      14351.077783       10305.662686   \n",
       "1456       0.0        0.0  ...      14248.032783       10214.779487   \n",
       "\n",
       "      7-Day_AG_to_30-Day_AVG  30-Day_AG_to_50-Day_AVG  \\\n",
       "0                  -0.035512                -0.061359   \n",
       "1                  -0.031674                -0.062867   \n",
       "2                  -0.028997                -0.067017   \n",
       "3                  -0.018507                -0.072054   \n",
       "4                  -0.012546                -0.074133   \n",
       "...                      ...                      ...   \n",
       "1452               -0.073739                 0.052480   \n",
       "1453               -0.056744                 0.068654   \n",
       "1454               -0.032291                 0.082751   \n",
       "1455               -0.005977                 0.097355   \n",
       "1456                0.005387                 0.114672   \n",
       "\n",
       "      50-Day_AG_to_100-Day_AVG  7_to_30_5-Day_AVG  30_to_50_5-Day_AVG  \\\n",
       "0                    -0.068885          -0.025447           -0.067486   \n",
       "1                    -0.062622          -0.020436           -0.070086   \n",
       "2                    -0.055735          -0.015038           -0.072313   \n",
       "3                    -0.048167          -0.009414           -0.073719   \n",
       "4                    -0.041143          -0.006154           -0.074123   \n",
       "...                        ...                ...                 ...   \n",
       "1452                  0.386333          -0.032673            0.083182   \n",
       "1453                  0.389256          -0.017265            0.098730   \n",
       "1454                  0.390913          -0.004924            0.113520   \n",
       "1455                  0.392543          -0.000184            0.127850   \n",
       "1456                  0.394845          -0.004894            0.142240   \n",
       "\n",
       "      50_to_100_5-Day_AVG  Year  Month  \n",
       "0               -0.055310  2022      1  \n",
       "1               -0.048463  2022      1  \n",
       "2               -0.041411  2022      1  \n",
       "3               -0.034205  2022      1  \n",
       "4               -0.026881  2022      1  \n",
       "...                   ...   ...    ...  \n",
       "1452             0.390778  2018      1  \n",
       "1453             0.392665  2018      1  \n",
       "1454             0.394253  2018      1  \n",
       "1455             0.395686  2018      1  \n",
       "1456             0.396760  2018      1  \n",
       "\n",
       "[1457 rows x 32 columns]"
      ]
     },
     "execution_count": 3,
     "metadata": {},
     "output_type": "execute_result"
    }
   ],
   "source": [
    "btc"
   ]
  },
  {
   "cell_type": "markdown",
   "metadata": {},
   "source": [
    "# Remove Excess Columns "
   ]
  },
  {
   "cell_type": "code",
   "execution_count": null,
   "metadata": {},
   "outputs": [],
   "source": [
    "remove_list = ['Gain_Run', '50-Day_AVG_Price', '7-Day_High','7-Day_Low','Diff_from_7-Day_Low','30-Day_AVG_Price', '30-Day_Delta_AVG','365-Day_High', '100-Day_AVG_Price', '7-Day_AG_to_30-Day_AVG', '50-Day_AG_to_100-Day_AVG', '7_to_30_5-Day_AVG', '50_to_100_5-Day_AVG', 'Close_-1_Delta', '30-Day_Low', '365-Day_Low', 'Diff_from_7-Day_High', '30-Day_AG_to_50-Day_AVG', '30_to_50_5-Day_AVG', 'Month']\n",
    "\n",
    "btc = btc.drop(remove_list, axis=1)"
   ]
  },
  {
   "cell_type": "markdown",
   "metadata": {},
   "source": [
    "# Build and Test Predictive Models"
   ]
  },
  {
   "cell_type": "markdown",
   "metadata": {},
   "source": [
    "### Select subset of data and do train_test_split"
   ]
  },
  {
   "cell_type": "code",
   "execution_count": null,
   "metadata": {},
   "outputs": [],
   "source": [
    "btc_6mo = btc.iloc[0:180,:]\n",
    "\n",
    "btc = btc.iloc[180:,:]"
   ]
  },
  {
   "cell_type": "code",
   "execution_count": 4,
   "metadata": {},
   "outputs": [],
   "source": [
    "btc_2022 = btc[btc['Year'] >= 2021]  # Separate 2022 data\n",
    "\n",
    "btc = btc[btc['Year'] < 2021]  # Remove 2022 data from the model"
   ]
  },
  {
   "cell_type": "code",
   "execution_count": null,
   "metadata": {},
   "outputs": [],
   "source": [
    "btc = btc.drop('Year', axis=1)"
   ]
  },
  {
   "cell_type": "code",
   "execution_count": null,
   "metadata": {},
   "outputs": [],
   "source": [
    "btc"
   ]
  },
  {
   "cell_type": "markdown",
   "metadata": {},
   "source": [
    "### Predict against 'AVG_Weighted_Future_Return' "
   ]
  },
  {
   "cell_type": "code",
   "execution_count": null,
   "metadata": {},
   "outputs": [],
   "source": [
    "# Get Y and X variables\n",
    "\n",
    "Y = btc['AVG_Weighted_Future_Return']\n",
    "\n",
    "X = btc.iloc[:, np.r_[3,7:11]]\n",
    "\n",
    "# Split out Test Data\n",
    "\n",
    "X_train, X_test, Y_train, Y_test = train_test_split(X, Y, test_size=0.30, random_state=42)\n",
    "\n",
    "# Collect 2022 data that the model will be applied to\n",
    "\n",
    "Z = btc_2022.iloc[:, np.r_[3,7:11]]"
   ]
  },
  {
   "cell_type": "code",
   "execution_count": 6,
   "metadata": {},
   "outputs": [],
   "source": [
    "# Get Y and X variables\n",
    "\n",
    "Y = btc['AVG_Weighted_Future_Return']\n",
    "\n",
    "X = btc.iloc[:, np.r_[3:4,6,8:31]]\n",
    "\n",
    "# Split out Test Data\n",
    "\n",
    "X_train, X_test, Y_train, Y_test = train_test_split(X, Y, test_size=0.30, random_state=42)\n",
    "\n",
    "# Collect 2022 data that the model will be applied to\n",
    "\n",
    "Z = btc_2022.iloc[:, np.r_[3:4,6,8:31]]"
   ]
  },
  {
   "cell_type": "markdown",
   "metadata": {},
   "source": [
    "### Linear Regression"
   ]
  },
  {
   "cell_type": "code",
   "execution_count": null,
   "metadata": {},
   "outputs": [],
   "source": [
    "# Linear Regression\n",
    "\n",
    "simple_linear_regression = LinearRegression().fit(X_train, Y_train)"
   ]
  },
  {
   "cell_type": "code",
   "execution_count": null,
   "metadata": {},
   "outputs": [],
   "source": [
    "mean_squared_error(Y_train, simple_linear_regression.predict(X_train))"
   ]
  },
  {
   "cell_type": "code",
   "execution_count": null,
   "metadata": {},
   "outputs": [],
   "source": [
    "mean_squared_error(Y_test, simple_linear_regression.predict(X_test))"
   ]
  },
  {
   "cell_type": "code",
   "execution_count": null,
   "metadata": {},
   "outputs": [],
   "source": [
    "# Apply the model on the new set of data\n",
    "\n",
    "LR = pd.DataFrame(simple_linear_regression.predict(Z))\n",
    "LR = LR.rename(columns={0:'PREDICTION'})\n",
    "\n",
    "# Add the prediction to the remaining data\n",
    "\n",
    "frames = [LR, btc_2022]\n",
    "\n",
    "LR_Final = pd.concat(frames, axis=1)\n",
    "\n",
    "LR_Final.to_csv('LR26mo_Final.csv', \n",
    "                index=False)"
   ]
  },
  {
   "cell_type": "markdown",
   "metadata": {},
   "source": [
    "### View Summary of Linear Regression (Statsmodels)"
   ]
  },
  {
   "cell_type": "code",
   "execution_count": null,
   "metadata": {},
   "outputs": [],
   "source": [
    "import statsmodels.api as sm\n",
    "linear_reg = sm.OLS(Y_train, X_train).fit()\n"
   ]
  },
  {
   "cell_type": "code",
   "execution_count": null,
   "metadata": {},
   "outputs": [],
   "source": [
    "linear_reg.summary()"
   ]
  },
  {
   "cell_type": "markdown",
   "metadata": {},
   "source": [
    "### Decision Tree "
   ]
  },
  {
   "cell_type": "code",
   "execution_count": null,
   "metadata": {},
   "outputs": [],
   "source": [
    "# Decision Tree\n",
    "\n",
    "grid_search_cv_dt = GridSearchCV(DecisionTreeRegressor(random_state=42),\n",
    "                              param_grid=dict(min_impurity_decrease=np.arange(-2.00, 2.00, 0.01)),\n",
    "                              cv=KFold(n_splits=2, shuffle=True, random_state=42)).fit(X_train, Y_train)"
   ]
  },
  {
   "cell_type": "code",
   "execution_count": null,
   "metadata": {
    "scrolled": true
   },
   "outputs": [],
   "source": [
    "grid_search_cv_dt.best_params_"
   ]
  },
  {
   "cell_type": "code",
   "execution_count": null,
   "metadata": {},
   "outputs": [],
   "source": [
    "mean_squared_error(Y_train, grid_search_cv_dt.best_estimator_.predict(X_train))"
   ]
  },
  {
   "cell_type": "code",
   "execution_count": null,
   "metadata": {
    "scrolled": true
   },
   "outputs": [],
   "source": [
    "mean_squared_error(Y_test, grid_search_cv_dt.best_estimator_.predict(X_test))"
   ]
  },
  {
   "cell_type": "code",
   "execution_count": null,
   "metadata": {},
   "outputs": [],
   "source": [
    "# Apply the model on the new set of data\n",
    "\n",
    "DT = pd.DataFrame(grid_search_cv_dt.best_estimator_.predict(Z))\n",
    "DT = DT.rename(columns={0:'PREDICTION'})\n",
    "\n",
    "# Add the prediction to the remaining data\n",
    "\n",
    "frames = [DT, btc_2022]\n",
    "\n",
    "DT_Final = pd.concat(frames, axis=1)\n",
    "\n",
    "DT_Final.to_csv('DTv2_Final.csv', \n",
    "                index=False)"
   ]
  },
  {
   "cell_type": "markdown",
   "metadata": {},
   "source": [
    "### Bagged Tree "
   ]
  },
  {
   "cell_type": "code",
   "execution_count": null,
   "metadata": {},
   "outputs": [],
   "source": [
    "# Bagging\n",
    "\n",
    "bag_fit = BaggingRegressor(base_estimator=DecisionTreeRegressor(random_state=42, max_depth=5),random_state=42).fit(X_train, Y_train)"
   ]
  },
  {
   "cell_type": "code",
   "execution_count": null,
   "metadata": {},
   "outputs": [],
   "source": [
    "mean_squared_error(Y_train, bag_fit.predict(X_train))"
   ]
  },
  {
   "cell_type": "code",
   "execution_count": null,
   "metadata": {},
   "outputs": [],
   "source": [
    "mean_squared_error(Y_test, bag_fit.predict(X_test))"
   ]
  },
  {
   "cell_type": "code",
   "execution_count": null,
   "metadata": {},
   "outputs": [],
   "source": [
    "# Apply the model on the new set of data\n",
    "\n",
    "BT = pd.DataFrame(bag_fit.predict(Z))\n",
    "BT = BT.rename(columns={0:'PREDICTION'})\n",
    "\n",
    "# Add the prediction to the remaining data\n",
    "\n",
    "frames = [BT, btc_2022]\n",
    "\n",
    "BT_Final = pd.concat(frames, axis=1)\n",
    "\n",
    "BT_Final.to_csv('BTv2_Final.csv', \n",
    "                index=False)"
   ]
  },
  {
   "cell_type": "markdown",
   "metadata": {},
   "source": [
    "### Random Forrest "
   ]
  },
  {
   "cell_type": "code",
   "execution_count": null,
   "metadata": {},
   "outputs": [],
   "source": [
    "# Random Forest\n",
    "\n",
    "rf_fit = RandomForestRegressor(random_state = 42).fit(X_train, Y_train)"
   ]
  },
  {
   "cell_type": "code",
   "execution_count": null,
   "metadata": {},
   "outputs": [],
   "source": [
    "mean_squared_error(Y_train, rf_fit.predict(X_train))"
   ]
  },
  {
   "cell_type": "code",
   "execution_count": null,
   "metadata": {},
   "outputs": [],
   "source": [
    "mean_squared_error(Y_test, rf_fit.predict(X_test))"
   ]
  },
  {
   "cell_type": "code",
   "execution_count": null,
   "metadata": {},
   "outputs": [],
   "source": [
    "# Apply the model on the new set of data\n",
    "\n",
    "RF = pd.DataFrame(rf_fit.predict(Z))\n",
    "RF = RF.rename(columns={0:'PREDICTION'})\n",
    "\n",
    "# Add the prediction to the remaining data\n",
    "\n",
    "frames = [RF, btc_2022]\n",
    "\n",
    "RF_Final = pd.concat(frames, axis=1)\n",
    "\n",
    "RF_Final.to_csv('RFv2_Final.csv', \n",
    "                index=False)"
   ]
  },
  {
   "cell_type": "markdown",
   "metadata": {},
   "source": [
    "### KNN"
   ]
  },
  {
   "cell_type": "code",
   "execution_count": null,
   "metadata": {},
   "outputs": [],
   "source": [
    "# KNN\n",
    "\n",
    "knn_pipeline = make_pipeline(KNeighborsRegressor())\n",
    "\n",
    "knn_fit = knn_pipeline.fit(X_train, Y_train)"
   ]
  },
  {
   "cell_type": "code",
   "execution_count": null,
   "metadata": {},
   "outputs": [],
   "source": [
    "mean_squared_error(Y_train, knn_fit.predict(X_train))"
   ]
  },
  {
   "cell_type": "code",
   "execution_count": null,
   "metadata": {
    "scrolled": true
   },
   "outputs": [],
   "source": [
    "mean_squared_error(Y_test, knn_fit.predict(X_test))"
   ]
  },
  {
   "cell_type": "code",
   "execution_count": null,
   "metadata": {},
   "outputs": [],
   "source": [
    "# Apply the model on the new set of data\n",
    "\n",
    "KNN = pd.DataFrame(knn_fit.predict(Z))\n",
    "KNN = KNN.rename(columns={0:'PREDICTION'})\n",
    "\n",
    "# Add the prediction to the remaining data\n",
    "\n",
    "frames = [KNN, btc_2022]\n",
    "\n",
    "KNN_Final = pd.concat(frames, axis=1)\n",
    "\n",
    "KNN_Final.to_csv('KNNv2_Final.csv', \n",
    "                index=False)"
   ]
  },
  {
   "cell_type": "markdown",
   "metadata": {},
   "source": [
    "# Predict against 'Delta_Class_Numeric' "
   ]
  },
  {
   "cell_type": "code",
   "execution_count": 7,
   "metadata": {},
   "outputs": [],
   "source": [
    "# Get new Y variable\n",
    "\n",
    "Y = btc['Delta_Class_Numeric']\n",
    "\n",
    "# Split out Test Data\n",
    "\n",
    "X_train, X_test, Y_train, Y_test = train_test_split(X, Y, test_size=0.30, random_state=42)"
   ]
  },
  {
   "cell_type": "markdown",
   "metadata": {},
   "source": [
    "### Decision Tree "
   ]
  },
  {
   "cell_type": "code",
   "execution_count": null,
   "metadata": {},
   "outputs": [],
   "source": [
    "tree = DecisionTreeClassifier(random_state=42).fit(X_train, Y_train)"
   ]
  },
  {
   "cell_type": "code",
   "execution_count": null,
   "metadata": {},
   "outputs": [],
   "source": [
    "mean_squared_error(Y_train, tree.predict(X_train))"
   ]
  },
  {
   "cell_type": "code",
   "execution_count": null,
   "metadata": {},
   "outputs": [],
   "source": [
    "mean_squared_error(Y_test, tree.predict(X_test))"
   ]
  },
  {
   "cell_type": "code",
   "execution_count": null,
   "metadata": {},
   "outputs": [],
   "source": [
    "plot_confusion_matrix(tree, X_train, Y_train)"
   ]
  },
  {
   "cell_type": "code",
   "execution_count": null,
   "metadata": {},
   "outputs": [],
   "source": [
    "plot_confusion_matrix(tree, X_test, Y_test)"
   ]
  },
  {
   "cell_type": "code",
   "execution_count": null,
   "metadata": {},
   "outputs": [],
   "source": [
    "fig, axes = plt.subplots(1, 1, dpi=1200)\n",
    "_ = plot_tree(tree, max_depth=3, feature_names=X_train.columns)"
   ]
  },
  {
   "cell_type": "code",
   "execution_count": null,
   "metadata": {},
   "outputs": [],
   "source": [
    "accuracy_score(Y_train, tree.predict(X_train))"
   ]
  },
  {
   "cell_type": "code",
   "execution_count": null,
   "metadata": {},
   "outputs": [],
   "source": [
    "precision_score(Y_train, tree.predict(X_train), average='macro')"
   ]
  },
  {
   "cell_type": "code",
   "execution_count": null,
   "metadata": {
    "scrolled": true
   },
   "outputs": [],
   "source": [
    "recall_score(Y_train, tree.predict(X_train), average='macro')"
   ]
  },
  {
   "cell_type": "code",
   "execution_count": null,
   "metadata": {},
   "outputs": [],
   "source": [
    "accuracy_score(Y_test, tree.predict(X_test))"
   ]
  },
  {
   "cell_type": "code",
   "execution_count": null,
   "metadata": {},
   "outputs": [],
   "source": [
    "precision_score(Y_test, tree.predict(X_test), average='macro')"
   ]
  },
  {
   "cell_type": "code",
   "execution_count": null,
   "metadata": {},
   "outputs": [],
   "source": [
    "recall_score(Y_test, tree.predict(X_test), average='macro')"
   ]
  },
  {
   "cell_type": "code",
   "execution_count": null,
   "metadata": {},
   "outputs": [],
   "source": [
    "# Apply the model on the new set of data\n",
    "\n",
    "DT3c = pd.DataFrame(tree.predict(Z))\n",
    "DT3c = DT3c.rename(columns={0:'PREDICTION'})\n",
    "\n",
    "# Add the prediction to the remaining data\n",
    "\n",
    "frames = [DT3c, btc_2022]\n",
    "\n",
    "DT3c_Final = pd.concat(frames, axis=1)\n",
    "\n",
    "DT3c_Final.to_csv('DT3cbin6mo_Final.csv', \n",
    "                index=False)"
   ]
  },
  {
   "cell_type": "markdown",
   "metadata": {},
   "source": [
    "### Decision Tree with Cross Validation and Optimized"
   ]
  },
  {
   "cell_type": "code",
   "execution_count": null,
   "metadata": {},
   "outputs": [],
   "source": [
    "# Decision Tree\n",
    "\n",
    "grid_search_cv_dt = GridSearchCV(DecisionTreeClassifier(random_state=42),\n",
    "                              param_grid=dict(min_impurity_decrease=np.arange(-2.00, 2.00, 0.01))).fit(X_train, Y_train)"
   ]
  },
  {
   "cell_type": "code",
   "execution_count": null,
   "metadata": {
    "scrolled": true
   },
   "outputs": [],
   "source": [
    "grid_search_cv_dt.best_params_"
   ]
  },
  {
   "cell_type": "code",
   "execution_count": null,
   "metadata": {},
   "outputs": [],
   "source": [
    "mean_squared_error(Y_train, grid_search_cv_dt.best_estimator_.predict(X_train))"
   ]
  },
  {
   "cell_type": "code",
   "execution_count": null,
   "metadata": {
    "scrolled": true
   },
   "outputs": [],
   "source": [
    "mean_squared_error(Y_test, grid_search_cv_dt.best_estimator_.predict(X_test))"
   ]
  },
  {
   "cell_type": "code",
   "execution_count": null,
   "metadata": {
    "scrolled": true
   },
   "outputs": [],
   "source": [
    "plot_confusion_matrix(grid_search_cv_dt, X_train, Y_train)"
   ]
  },
  {
   "cell_type": "code",
   "execution_count": null,
   "metadata": {
    "scrolled": true
   },
   "outputs": [],
   "source": [
    "plot_confusion_matrix(grid_search_cv_dt, X_test, Y_test)"
   ]
  },
  {
   "cell_type": "code",
   "execution_count": null,
   "metadata": {
    "scrolled": true
   },
   "outputs": [],
   "source": [
    "accuracy_score(Y_train, grid_search_cv_dt.predict(X_train))"
   ]
  },
  {
   "cell_type": "code",
   "execution_count": null,
   "metadata": {},
   "outputs": [],
   "source": [
    "precision_score(Y_train, grid_search_cv_dt.predict(X_train), average='macro')"
   ]
  },
  {
   "cell_type": "code",
   "execution_count": null,
   "metadata": {
    "scrolled": true
   },
   "outputs": [],
   "source": [
    "recall_score(Y_train, grid_search_cv_dt.predict(X_train), average='macro')"
   ]
  },
  {
   "cell_type": "code",
   "execution_count": null,
   "metadata": {},
   "outputs": [],
   "source": [
    "accuracy_score(Y_test, grid_search_cv_dt.predict(X_test))"
   ]
  },
  {
   "cell_type": "code",
   "execution_count": null,
   "metadata": {},
   "outputs": [],
   "source": [
    "precision_score(Y_test, grid_search_cv_dt.predict(X_test), average='macro')"
   ]
  },
  {
   "cell_type": "code",
   "execution_count": null,
   "metadata": {},
   "outputs": [],
   "source": [
    "recall_score(Y_test, grid_search_cv_dt.predict(X_test), average='macro')"
   ]
  },
  {
   "cell_type": "markdown",
   "metadata": {},
   "source": [
    "### Random Forrest "
   ]
  },
  {
   "cell_type": "code",
   "execution_count": null,
   "metadata": {},
   "outputs": [],
   "source": [
    "# Random Forest\n",
    "\n",
    "rf_fit = RandomForestClassifier(random_state = 42).fit(X_train, Y_train)"
   ]
  },
  {
   "cell_type": "code",
   "execution_count": null,
   "metadata": {},
   "outputs": [],
   "source": [
    "mean_squared_error(Y_train, rf_fit.predict(X_train))"
   ]
  },
  {
   "cell_type": "code",
   "execution_count": null,
   "metadata": {},
   "outputs": [],
   "source": [
    "mean_squared_error(Y_test, rf_fit.predict(X_test))"
   ]
  },
  {
   "cell_type": "code",
   "execution_count": null,
   "metadata": {},
   "outputs": [],
   "source": [
    "plot_confusion_matrix(rf_fit, X_train, Y_train) "
   ]
  },
  {
   "cell_type": "code",
   "execution_count": null,
   "metadata": {},
   "outputs": [],
   "source": [
    "plot_confusion_matrix(rf_fit, X_test, Y_test)"
   ]
  },
  {
   "cell_type": "code",
   "execution_count": null,
   "metadata": {
    "scrolled": false
   },
   "outputs": [],
   "source": [
    "accuracy_score(Y_train, rf_fit.predict(X_train))"
   ]
  },
  {
   "cell_type": "code",
   "execution_count": null,
   "metadata": {},
   "outputs": [],
   "source": [
    "precision_score(Y_train, rf_fit.predict(X_train), average='macro')"
   ]
  },
  {
   "cell_type": "code",
   "execution_count": null,
   "metadata": {
    "scrolled": true
   },
   "outputs": [],
   "source": [
    "recall_score(Y_train, rf_fit.predict(X_train), average='macro')"
   ]
  },
  {
   "cell_type": "code",
   "execution_count": null,
   "metadata": {},
   "outputs": [],
   "source": [
    "accuracy_score(Y_test, rf_fit.predict(X_test))"
   ]
  },
  {
   "cell_type": "code",
   "execution_count": null,
   "metadata": {},
   "outputs": [],
   "source": [
    "precision_score(Y_test, rf_fit.predict(X_test), average='macro')"
   ]
  },
  {
   "cell_type": "code",
   "execution_count": null,
   "metadata": {
    "scrolled": true
   },
   "outputs": [],
   "source": [
    "recall_score(Y_test, rf_fit.predict(X_test), average='macro')"
   ]
  },
  {
   "cell_type": "code",
   "execution_count": null,
   "metadata": {},
   "outputs": [],
   "source": [
    "# Apply the model on the new set of data\n",
    "\n",
    "RFc = pd.DataFrame(rf_fit.predict(Z))\n",
    "RFc = RFc.rename(columns={0:'PREDICTION'})\n",
    "\n",
    "# Add the prediction to the remaining data\n",
    "\n",
    "frames = [RFc, btc_2022]\n",
    "\n",
    "RFc_Final = pd.concat(frames, axis=1)\n",
    "\n",
    "RFc_Final.to_csv('RFcv2bin6mo_Final.csv', \n",
    "                index=False)"
   ]
  },
  {
   "cell_type": "markdown",
   "metadata": {},
   "source": [
    "### KNN"
   ]
  },
  {
   "cell_type": "code",
   "execution_count": null,
   "metadata": {},
   "outputs": [],
   "source": [
    "# KNN\n",
    "\n",
    "knn_pipeline = make_pipeline(KNeighborsClassifier())\n",
    "\n",
    "knn_fit = knn_pipeline.fit(X_train, Y_train)"
   ]
  },
  {
   "cell_type": "code",
   "execution_count": null,
   "metadata": {},
   "outputs": [],
   "source": [
    "mean_squared_error(Y_train, knn_fit.predict(X_train))"
   ]
  },
  {
   "cell_type": "code",
   "execution_count": null,
   "metadata": {
    "scrolled": true
   },
   "outputs": [],
   "source": [
    "mean_squared_error(Y_test, knn_fit.predict(X_test))"
   ]
  },
  {
   "cell_type": "code",
   "execution_count": null,
   "metadata": {},
   "outputs": [],
   "source": [
    "plot_confusion_matrix(knn_fit, X_train, Y_train) "
   ]
  },
  {
   "cell_type": "code",
   "execution_count": null,
   "metadata": {},
   "outputs": [],
   "source": [
    "plot_confusion_matrix(knn_fit, X_test, Y_test)"
   ]
  },
  {
   "cell_type": "code",
   "execution_count": null,
   "metadata": {
    "scrolled": false
   },
   "outputs": [],
   "source": [
    "accuracy_score(Y_train, knn_fit.predict(X_train))"
   ]
  },
  {
   "cell_type": "code",
   "execution_count": null,
   "metadata": {},
   "outputs": [],
   "source": [
    "precision_score(Y_train, knn_fit.predict(X_train), average='macro')"
   ]
  },
  {
   "cell_type": "code",
   "execution_count": null,
   "metadata": {
    "scrolled": true
   },
   "outputs": [],
   "source": [
    "recall_score(Y_train, knn_fit.predict(X_train), average='macro')"
   ]
  },
  {
   "cell_type": "code",
   "execution_count": null,
   "metadata": {},
   "outputs": [],
   "source": [
    "accuracy_score(Y_test, knn_fit.predict(X_test))"
   ]
  },
  {
   "cell_type": "code",
   "execution_count": null,
   "metadata": {},
   "outputs": [],
   "source": [
    "precision_score(Y_test, knn_fit.predict(X_test), average='macro')"
   ]
  },
  {
   "cell_type": "code",
   "execution_count": null,
   "metadata": {
    "scrolled": false
   },
   "outputs": [],
   "source": [
    "recall_score(Y_test, knn_fit.predict(X_test), average='macro')"
   ]
  },
  {
   "cell_type": "code",
   "execution_count": null,
   "metadata": {},
   "outputs": [],
   "source": [
    "# Apply the model on the new set of data\n",
    "\n",
    "KNNc = pd.DataFrame(knn_fit.predict(Z))\n",
    "KNNc = KNNc.rename(columns={0:'PREDICTION'})\n",
    "\n",
    "# Add the prediction to the remaining data\n",
    "\n",
    "frames = [KNNc, btc_2022]\n",
    "\n",
    "KNNc_Final = pd.concat(frames, axis=1)\n",
    "\n",
    "KNNc_Final.to_csv('KNNcv2bin6mo_Final.csv', \n",
    "                index=False)"
   ]
  },
  {
   "cell_type": "markdown",
   "metadata": {},
   "source": [
    "### KNN With Cross Validation and Best n_neighbors "
   ]
  },
  {
   "cell_type": "code",
   "execution_count": 8,
   "metadata": {},
   "outputs": [],
   "source": [
    "k_fold = KFold(n_splits=2, shuffle=True, random_state=42)"
   ]
  },
  {
   "cell_type": "code",
   "execution_count": 9,
   "metadata": {},
   "outputs": [],
   "source": [
    "knn_pipeline = make_pipeline(StandardScaler(),\n",
    "                             KNeighborsClassifier())"
   ]
  },
  {
   "cell_type": "code",
   "execution_count": 10,
   "metadata": {},
   "outputs": [],
   "source": [
    "k_candidates = np.arange(1, 100)"
   ]
  },
  {
   "cell_type": "code",
   "execution_count": 11,
   "metadata": {},
   "outputs": [],
   "source": [
    "grid_search_cv = GridSearchCV(knn_pipeline,\n",
    "                              dict(kneighborsclassifier__n_neighbors=k_candidates),\n",
    "                              cv=k_fold).fit(X_train, Y_train)"
   ]
  },
  {
   "cell_type": "code",
   "execution_count": 12,
   "metadata": {},
   "outputs": [
    {
     "data": {
      "text/plain": [
       "{'kneighborsclassifier__n_neighbors': 16}"
      ]
     },
     "execution_count": 12,
     "metadata": {},
     "output_type": "execute_result"
    }
   ],
   "source": [
    "grid_search_cv.best_params_"
   ]
  },
  {
   "cell_type": "code",
   "execution_count": 13,
   "metadata": {},
   "outputs": [
    {
     "data": {
      "text/plain": [
       "<sklearn.metrics._plot.confusion_matrix.ConfusionMatrixDisplay at 0x1faa57c5160>"
      ]
     },
     "execution_count": 13,
     "metadata": {},
     "output_type": "execute_result"
    },
    {
     "data": {
      "image/png": "[encoded data removed]",
      "text/plain": [
       "<Figure size 432x288 with 2 Axes>"
      ]
     },
     "metadata": {
      "needs_background": "light"
     },
     "output_type": "display_data"
    }
   ],
   "source": [
    "plot_confusion_matrix(grid_search_cv.best_estimator_, X_test, Y_test)"
   ]
  },
  {
   "cell_type": "code",
   "execution_count": 14,
   "metadata": {},
   "outputs": [
    {
     "data": {
      "text/plain": [
       "0.38026315789473686"
      ]
     },
     "execution_count": 14,
     "metadata": {},
     "output_type": "execute_result"
    }
   ],
   "source": [
    "mean_squared_error(Y_train, grid_search_cv.best_estimator_.predict(X_train))"
   ]
  },
  {
   "cell_type": "code",
   "execution_count": 15,
   "metadata": {},
   "outputs": [
    {
     "data": {
      "text/plain": [
       "0.4815950920245399"
      ]
     },
     "execution_count": 15,
     "metadata": {},
     "output_type": "execute_result"
    }
   ],
   "source": [
    "mean_squared_error(Y_test, grid_search_cv.best_estimator_.predict(X_test))"
   ]
  },
  {
   "cell_type": "code",
   "execution_count": 16,
   "metadata": {
    "scrolled": false
   },
   "outputs": [
    {
     "data": {
      "text/plain": [
       "0.6197368421052631"
      ]
     },
     "execution_count": 16,
     "metadata": {},
     "output_type": "execute_result"
    }
   ],
   "source": [
    "accuracy_score(Y_train,grid_search_cv.best_estimator_.predict(X_train))"
   ]
  },
  {
   "cell_type": "code",
   "execution_count": 17,
   "metadata": {},
   "outputs": [
    {
     "data": {
      "text/plain": [
       "0.6182590601699324"
      ]
     },
     "execution_count": 17,
     "metadata": {},
     "output_type": "execute_result"
    }
   ],
   "source": [
    "precision_score(Y_train, grid_search_cv.best_estimator_.predict(X_train), average='macro')"
   ]
  },
  {
   "cell_type": "code",
   "execution_count": 18,
   "metadata": {
    "scrolled": true
   },
   "outputs": [
    {
     "data": {
      "text/plain": [
       "0.6189180894989399"
      ]
     },
     "execution_count": 18,
     "metadata": {},
     "output_type": "execute_result"
    }
   ],
   "source": [
    "recall_score(Y_train, grid_search_cv.best_estimator_.predict(X_train), average='macro')"
   ]
  },
  {
   "cell_type": "code",
   "execution_count": 19,
   "metadata": {},
   "outputs": [
    {
     "data": {
      "text/plain": [
       "0.5184049079754601"
      ]
     },
     "execution_count": 19,
     "metadata": {},
     "output_type": "execute_result"
    }
   ],
   "source": [
    "accuracy_score(Y_test, grid_search_cv.best_estimator_.predict(X_test))"
   ]
  },
  {
   "cell_type": "code",
   "execution_count": 20,
   "metadata": {},
   "outputs": [
    {
     "data": {
      "text/plain": [
       "0.5179334554334554"
      ]
     },
     "execution_count": 20,
     "metadata": {},
     "output_type": "execute_result"
    }
   ],
   "source": [
    "precision_score(Y_test, grid_search_cv.best_estimator_.predict(X_test), average='macro')"
   ]
  },
  {
   "cell_type": "code",
   "execution_count": 21,
   "metadata": {
    "scrolled": false
   },
   "outputs": [
    {
     "data": {
      "text/plain": [
       "0.5176924524750612"
      ]
     },
     "execution_count": 21,
     "metadata": {},
     "output_type": "execute_result"
    }
   ],
   "source": [
    "recall_score(Y_test, grid_search_cv.best_estimator_.predict(X_test), average='macro')"
   ]
  },
  {
   "cell_type": "code",
   "execution_count": 23,
   "metadata": {},
   "outputs": [],
   "source": [
    "# Apply the model on the new set of data\n",
    "\n",
    "KNN2c = pd.DataFrame(grid_search_cv.best_estimator_.predict(Z))\n",
    "KNN2c = KNN2c.rename(columns={0:'PREDICTION'})\n",
    "\n",
    "# Add the prediction to the remaining data\n",
    "\n",
    "frames = [KNN2c, btc_2022]\n",
    "\n",
    "KNN2c_Final = pd.concat(frames, axis=1)\n",
    "\n",
    "# KNN2c_Final.to_csv('KNN2cv2bin6mo_Final.csv', \n",
    "#                 index=False)"
   ]
  },
  {
   "cell_type": "code",
   "execution_count": 24,
   "metadata": {},
   "outputs": [
    {
     "data": {
      "text/html": [
       "<div>\n",
       "<style scoped>\n",
       "    .dataframe tbody tr th:only-of-type {\n",
       "        vertical-align: middle;\n",
       "    }\n",
       "\n",
       "    .dataframe tbody tr th {\n",
       "        vertical-align: top;\n",
       "    }\n",
       "\n",
       "    .dataframe thead th {\n",
       "        text-align: right;\n",
       "    }\n",
       "</style>\n",
       "<table border=\"1\" class=\"dataframe\">\n",
       "  <thead>\n",
       "    <tr style=\"text-align: right;\">\n",
       "      <th></th>\n",
       "      <th>PREDICTION</th>\n",
       "    </tr>\n",
       "  </thead>\n",
       "  <tbody>\n",
       "    <tr>\n",
       "      <th>0</th>\n",
       "      <td>1.0</td>\n",
       "    </tr>\n",
       "    <tr>\n",
       "      <th>1</th>\n",
       "      <td>1.0</td>\n",
       "    </tr>\n",
       "    <tr>\n",
       "      <th>2</th>\n",
       "      <td>1.0</td>\n",
       "    </tr>\n",
       "    <tr>\n",
       "      <th>3</th>\n",
       "      <td>1.0</td>\n",
       "    </tr>\n",
       "    <tr>\n",
       "      <th>4</th>\n",
       "      <td>1.0</td>\n",
       "    </tr>\n",
       "    <tr>\n",
       "      <th>...</th>\n",
       "      <td>...</td>\n",
       "    </tr>\n",
       "    <tr>\n",
       "      <th>366</th>\n",
       "      <td>1.0</td>\n",
       "    </tr>\n",
       "    <tr>\n",
       "      <th>367</th>\n",
       "      <td>1.0</td>\n",
       "    </tr>\n",
       "    <tr>\n",
       "      <th>368</th>\n",
       "      <td>1.0</td>\n",
       "    </tr>\n",
       "    <tr>\n",
       "      <th>369</th>\n",
       "      <td>1.0</td>\n",
       "    </tr>\n",
       "    <tr>\n",
       "      <th>370</th>\n",
       "      <td>1.0</td>\n",
       "    </tr>\n",
       "  </tbody>\n",
       "</table>\n",
       "<p>371 rows × 1 columns</p>\n",
       "</div>"
      ],
      "text/plain": [
       "     PREDICTION\n",
       "0           1.0\n",
       "1           1.0\n",
       "2           1.0\n",
       "3           1.0\n",
       "4           1.0\n",
       "..          ...\n",
       "366         1.0\n",
       "367         1.0\n",
       "368         1.0\n",
       "369         1.0\n",
       "370         1.0\n",
       "\n",
       "[371 rows x 1 columns]"
      ]
     },
     "execution_count": 24,
     "metadata": {},
     "output_type": "execute_result"
    }
   ],
   "source": [
    "KNN2c"
   ]
  },
  {
   "cell_type": "code",
   "execution_count": 29,
   "metadata": {},
   "outputs": [],
   "source": [
    "import Utils"
   ]
  },
  {
   "cell_type": "code",
   "execution_count": 30,
   "metadata": {},
   "outputs": [],
   "source": [
    "df = pd.DataFrame([], columns=('BTC', 'Value'))"
   ]
  },
  {
   "cell_type": "code",
   "execution_count": 31,
   "metadata": {
    "scrolled": true
   },
   "outputs": [
    {
     "ename": "TypeError",
     "evalue": "'int' object is not iterable",
     "output_type": "error",
     "traceback": [
      "\u001b[1;31m---------------------------------------------------------------------------\u001b[0m",
      "\u001b[1;31mTypeError\u001b[0m                                 Traceback (most recent call last)",
      "\u001b[1;32m<ipython-input-31-37925fef0269>\u001b[0m in \u001b[0;36m<module>\u001b[1;34m\u001b[0m\n\u001b[1;32m----> 1\u001b[1;33m \u001b[0mUtils\u001b[0m\u001b[1;33m.\u001b[0m\u001b[0mcalculate_return\u001b[0m\u001b[1;33m(\u001b[0m\u001b[1;34m'1/1/2021'\u001b[0m\u001b[1;33m,\u001b[0m \u001b[0mKNN2c_Final\u001b[0m\u001b[1;33m,\u001b[0m \u001b[0mdf\u001b[0m\u001b[1;33m)\u001b[0m\u001b[1;33m\u001b[0m\u001b[1;33m\u001b[0m\u001b[0m\n\u001b[0m",
      "\u001b[1;32m~\\Documents\\Duke\\Other\\Winter Data Competition\\Bitcoin-Trends\\Utils.py\u001b[0m in \u001b[0;36mcalculate_return\u001b[1;34m(start_date, input_data, empty_df)\u001b[0m\n\u001b[0;32m      3\u001b[0m     \u001b[0mdf\u001b[0m \u001b[1;33m=\u001b[0m \u001b[0mempty_df\u001b[0m\u001b[1;33m\u001b[0m\u001b[1;33m\u001b[0m\u001b[0m\n\u001b[0;32m      4\u001b[0m \u001b[1;33m\u001b[0m\u001b[0m\n\u001b[1;32m----> 5\u001b[1;33m     \u001b[1;32mfor\u001b[0m \u001b[0mx\u001b[0m \u001b[1;32min\u001b[0m \u001b[1;36m0\u001b[0m\u001b[1;33m:\u001b[0m\u001b[0mlen\u001b[0m\u001b[1;33m(\u001b[0m\u001b[0minput_data\u001b[0m\u001b[1;33m)\u001b[0m\u001b[1;33m:\u001b[0m\u001b[1;33m\u001b[0m\u001b[1;33m\u001b[0m\u001b[0m\n\u001b[0m\u001b[0;32m      6\u001b[0m         \u001b[1;32mif\u001b[0m \u001b[0mstart_date\u001b[0m \u001b[1;33m==\u001b[0m \u001b[0minput_data\u001b[0m\u001b[1;33m[\u001b[0m\u001b[1;34m'Date'\u001b[0m\u001b[1;33m]\u001b[0m\u001b[1;33m.\u001b[0m\u001b[0miloc\u001b[0m\u001b[1;33m[\u001b[0m\u001b[0mx\u001b[0m\u001b[1;33m]\u001b[0m\u001b[1;33m:\u001b[0m\u001b[1;33m\u001b[0m\u001b[1;33m\u001b[0m\u001b[0m\n\u001b[0;32m      7\u001b[0m             \u001b[0mdf\u001b[0m\u001b[1;33m[\u001b[0m\u001b[1;34m'Value'\u001b[0m\u001b[1;33m]\u001b[0m\u001b[1;33m.\u001b[0m\u001b[0miloc\u001b[0m\u001b[1;33m[\u001b[0m\u001b[0mx\u001b[0m\u001b[1;33m]\u001b[0m \u001b[1;33m=\u001b[0m \u001b[1;36m1000\u001b[0m\u001b[1;33m\u001b[0m\u001b[1;33m\u001b[0m\u001b[0m\n",
      "\u001b[1;31mTypeError\u001b[0m: 'int' object is not iterable"
     ]
    }
   ],
   "source": [
    "Utils.calculate_return('1/1/2021', KNN2c_Final, df)"
   ]
  },
  {
   "cell_type": "code",
   "execution_count": null,
   "metadata": {},
   "outputs": [],
   "source": [
    "Utils.test_func(4,5)"
   ]
  },
  {
   "cell_type": "code",
   "execution_count": null,
   "metadata": {},
   "outputs": [],
   "source": []
  }
 ],
 "metadata": {
  "kernelspec": {
   "display_name": "Python 3",
   "language": "python",
   "name": "python3"
  },
  "language_info": {
   "codemirror_mode": {
    "name": "ipython",
    "version": 3
   },
   "file_extension": ".py",
   "mimetype": "text/x-python",
   "name": "python",
   "nbconvert_exporter": "python",
   "pygments_lexer": "ipython3",
   "version": "3.8.3"
  }
 },
 "nbformat": 4,
 "nbformat_minor": 4
}
